{
 "cells": [
  {
   "cell_type": "markdown",
   "metadata": {},
   "source": [
    "# Synonym expansion playground"
   ]
  },
  {
   "cell_type": "code",
   "execution_count": 1,
   "metadata": {},
   "outputs": [
    {
     "name": "stderr",
     "output_type": "stream",
     "text": [
      "/Users/kalyan/Library/Caches/pypoetry/virtualenvs/cpr-sdk-MbEuBZqr-py3.10/lib/python3.10/site-packages/tqdm/auto.py:21: TqdmWarning: IProgress not found. Please update jupyter and ipywidgets. See https://ipywidgets.readthedocs.io/en/stable/user_install.html\n",
      "  from .autonotebook import tqdm as notebook_tqdm\n"
     ]
    }
   ],
   "source": [
    "from cpr_sdk.search_adaptors import VespaSearchAdapter\n",
    "from cpr_sdk.utils import dig"
   ]
  },
  {
   "cell_type": "code",
   "execution_count": 2,
   "metadata": {},
   "outputs": [],
   "source": [
    "VESPA_URL = \"http://localhost:8080\"\n",
    "search_adapter = VespaSearchAdapter(VESPA_URL)"
   ]
  },
  {
   "cell_type": "markdown",
   "metadata": {},
   "source": [
    "## 1. searching \"NDC\" using a simple YQL query\n",
    "\n",
    "This should match \"nationally determined contribution\" on titles, according to the rulesets.\n",
    "\n",
    "Both queries (using `userInput` and `contains` return zero results for \"ndc\")."
   ]
  },
  {
   "cell_type": "code",
   "execution_count": 11,
   "metadata": {},
   "outputs": [
    {
     "data": {
      "text/plain": [
       "{'trace': {'children': [{'message': \"Using query profile 'default'\"},\n",
       "   {'message': \"Invoking chain 'vespa' [com.yahoo.prelude.statistics.StatisticsSearcher@native -> com.yahoo.prelude.querytransform.PhrasingSearcher@vespa -> ... -> federation@native]\"},\n",
       "   {'children': [{'message': 'YQL query parsed: [select * from sources family_document, document_passage where weakAnd(default contains \"ndc\") limit 5000 timeout 20000]'},\n",
       "     {'message': 'Transforming \\'WEAKAND(100) default:ndc\\' to \\'WEAKAND(100) \"national determined contribution\" default:ndc\\' since \\'ndc +> \"national determined contribution\"\\' matched'},\n",
       "     {'message': 'SemanticSearcher: Rewrote query: [select * from sources family_document, document_passage where weakAnd(default contains phrase(\"national\", \"determined\", \"contribution\"), default contains \"ndc\") limit 5000 timeout 20000]'},\n",
       "     {'message': 'Federating to [family-document-passage]'},\n",
       "     {'children': [{'message': 'Stemming with language ENGLISH'},\n",
       "       {'message': 'Stemming: [select * from sources family_document, document_passage where ({targetNumHits: 5000}weakAnd(default contains phrase(({stem: false}\"national\"), ({stem: false}\"determined\"), ({stem: false}\"contribution\")), default contains ({stem: false}\"ndc\"))) limit 5000 timeout 19972]'},\n",
       "       {'message': 'Lowercasing: [select * from sources family_document, document_passage where ({targetNumHits: 5000}weakAnd(default contains phrase(({stem: false, normalizeCase: false}\"national\"), ({stem: false, normalizeCase: false}\"determined\"), ({stem: false, normalizeCase: false}\"contribution\")), default contains ({stem: false, normalizeCase: false}\"ndc\"))) limit 5000 timeout 19972]'},\n",
       "       {'message': 'family-document-passage.num0 search to dispatch: query=[WEAKAND(5000) \"national determined contribution\" default:ndc] timeout=19972ms offset=0 hits=5000 groupingSessionCache=true sessionId=48a07afa-b9ed-4ef4-a1f5-1b0d51cd9637.1736249107955.19.default rankproperties={\"vespa.softtimeout.enable\":[true],\"vespa.softtimeout.factor\":[0.7]} restrict=[family_document]'},\n",
       "       {'message': 'family-document-passage.num0 search to dispatch: query=[WEAKAND(5000) \"national determined contribution\" default:ndc] timeout=19972ms offset=0 hits=5000 groupingSessionCache=true sessionId=48a07afa-b9ed-4ef4-a1f5-1b0d51cd9637.1736249107955.20.default rankproperties={\"vespa.softtimeout.enable\":[true],\"vespa.softtimeout.factor\":[0.7]} restrict=[document_passage]'},\n",
       "       {'message': 'Current state of query tree: WEAKAND[N=5000]{\\n  PHRASE[explicit=false index=\"\" uniqueID=1]{\\n    WORD[fromSegmented=false index=\"\" origin=null segmentIndex=0 stemmed=true words=true]{\\n      \"national\"\\n    }\\n    WORD[fromSegmented=false index=\"\" origin=null segmentIndex=0 stemmed=true words=true]{\\n      \"determined\"\\n    }\\n    WORD[fromSegmented=false index=\"\" origin=null segmentIndex=0 stemmed=true words=true]{\\n      \"contribution\"\\n    }\\n  }\\n  WORD[fromSegmented=false index=\"default\" origin=\"(0 3)\" segmentIndex=0 stemmed=true uniqueID=2 words=true]{\\n    \"ndc\"\\n  }\\n}\\n'},\n",
       "       {'message': 'Current state of query tree: WEAKAND[N=5000]{\\n  PHRASE[explicit=false index=\"\" uniqueID=1]{\\n    WORD[fromSegmented=false index=\"\" origin=null segmentIndex=0 stemmed=true words=true]{\\n      \"national\"\\n    }\\n    WORD[fromSegmented=false index=\"\" origin=null segmentIndex=0 stemmed=true words=true]{\\n      \"determined\"\\n    }\\n    WORD[fromSegmented=false index=\"\" origin=null segmentIndex=0 stemmed=true words=true]{\\n      \"contribution\"\\n    }\\n  }\\n  WORD[fromSegmented=false index=\"default\" origin=\"(0 3)\" segmentIndex=0 stemmed=true uniqueID=2 words=true]{\\n    \"ndc\"\\n  }\\n}\\n'},\n",
       "       {'message': 'YQL+ representation: select * from sources family_document, document_passage where ({targetNumHits: 5000}weakAnd(default contains ({id: 1}phrase(({stem: false, normalizeCase: false}\"national\"), ({stem: false, normalizeCase: false}\"determined\"), ({stem: false, normalizeCase: false}\"contribution\"))), default contains ({stem: false, normalizeCase: false, id: 2}\"ndc\"))) limit 5000 timeout 19972'},\n",
       "       {'message': 'YQL+ representation: select * from sources family_document, document_passage where ({targetNumHits: 5000}weakAnd(default contains ({id: 1}phrase(({stem: false, normalizeCase: false}\"national\"), ({stem: false, normalizeCase: false}\"determined\"), ({stem: false, normalizeCase: false}\"contribution\"))), default contains ({stem: false, normalizeCase: false, id: 2}\"ndc\"))) limit 5000 timeout 19972'},\n",
       "       {'message': 'Dispatching to search node in cluster = dispatcher.family-document-passage key = 0 hostname = d4ad01aa9b9e path = 0 in group 0 statusIsKnown = true working = true activeDocs = 1969 targetActiveDocs = 1969'},\n",
       "       {'message': 'Dispatching to search node in cluster = dispatcher.family-document-passage key = 0 hostname = d4ad01aa9b9e path = 0 in group 0 statusIsKnown = true working = true activeDocs = 1969 targetActiveDocs = 1969'},\n",
       "       {'message': [{'start_time': '2025-01-07 11:25:07.975 UTC',\n",
       "          'distribution-key': 0,\n",
       "          'document-type': 'document_passage',\n",
       "          'duration_ms': 2.069208}]},\n",
       "       {'message': [{'start_time': '2025-01-07 11:25:07.975 UTC',\n",
       "          'distribution-key': 0,\n",
       "          'document-type': 'family_document',\n",
       "          'duration_ms': 2.099333}]},\n",
       "       {'message': 'family-document-passage.num0 dispatch response: Result (0 of total 0 hits)'},\n",
       "       {'message': 'family-document-passage.num0 dispatch response: Result (1 of total 1 hits)'},\n",
       "       {'message': 'GroupingExecutor.fill(null) = {[null]}'},\n",
       "       {'message': 'family-document-passage.num0 fill to dispatch: query=[WEAKAND(5000) \"national determined contribution\" default:ndc] timeout=19972ms offset=0 hits=5000 groupingSessionCache=true sessionId=48a07afa-b9ed-4ef4-a1f5-1b0d51cd9637.1736249107955.19.default rankproperties={\"vespa.softtimeout.enable\":[true],\"vespa.softtimeout.factor\":[0.7]} restrict=[family_document] summary=[null]'},\n",
       "       {'message': 'Current state of query tree: WEAKAND[N=5000]{\\n  PHRASE[explicit=false index=\"\" uniqueID=1]{\\n    WORD[fromSegmented=false index=\"\" origin=null segmentIndex=0 stemmed=true words=true]{\\n      \"national\"\\n    }\\n    WORD[fromSegmented=false index=\"\" origin=null segmentIndex=0 stemmed=true words=true]{\\n      \"determined\"\\n    }\\n    WORD[fromSegmented=false index=\"\" origin=null segmentIndex=0 stemmed=true words=true]{\\n      \"contribution\"\\n    }\\n  }\\n  WORD[fromSegmented=false index=\"default\" origin=\"(0 3)\" segmentIndex=0 stemmed=true uniqueID=2 words=true]{\\n    \"ndc\"\\n  }\\n}\\n'},\n",
       "       {'message': 'YQL+ representation: select * from sources family_document, document_passage where ({targetNumHits: 5000}weakAnd(default contains ({id: 1}phrase(({stem: false, normalizeCase: false}\"national\"), ({stem: false, normalizeCase: false}\"determined\"), ({stem: false, normalizeCase: false}\"contribution\"))), default contains ({stem: false, normalizeCase: false, id: 2}\"ndc\"))) limit 5000 timeout 19972'},\n",
       "       {'message': 'Not resending query during document summary fetching'}]},\n",
       "     {'message': 'Query time query \\'WEAKAND(5000) \"national determined contribution\" default:ndc\\': 44 ms'},\n",
       "     {'message': 'Summary fetch time query \\'WEAKAND(5000) \"national determined contribution\" default:ndc\\': 5 ms'}]}]},\n",
       " 'root': {'id': 'toplevel',\n",
       "  'relevance': 1.0,\n",
       "  'fields': {'totalCount': 1},\n",
       "  'coverage': {'coverage': 100,\n",
       "   'documents': 1968,\n",
       "   'full': True,\n",
       "   'nodes': 2,\n",
       "   'results': 2,\n",
       "   'resultsFull': 2},\n",
       "  'children': [{'id': 'id:doc_search:family_document::CCLW.document.i00000004.n0000',\n",
       "    'relevance': 0.06347477597697199,\n",
       "    'source': 'family-document-passage',\n",
       "    'fields': {'sddocname': 'family_document',\n",
       "     'documentid': 'id:doc_search:family_document::CCLW.document.i00000004.n0000',\n",
       "     'search_weights_ref': 'id:doc_search:search_weights::default_weights',\n",
       "     'family_name': 'Nationally Determined Contribution: Climate Change Adaptation and Low Emissions Growth Strategy by 2035',\n",
       "     'family_description': '<p><span style=\"font-size: 10pt;font-family: Arial;\">This strategy upgrades the 2013 strategy on Climate Change Adaptation. It identifies six priority sectors for climate change adaptation action, namely agriculture, water management/water resources, forestry and forest resources, biodiversity and sensitive ecosystems, tourism, human health, and energy, and six priority sectors for low emissions growth, namely electricity generation, building and housing, transport, agriculture, forestry and waste. It summarises the key impacts of climate change in BiH, and outlines strategies for the transformation of BiH to a green economy, focusing on social inclusivity and gender equity.</span></p>',\n",
       "     'family_import_id': 'CCLW.family.i00000003.n0000',\n",
       "     'family_slug': 'climate-change-adaptation-and-low-emissions-growth-strategy-by-2035_75e3',\n",
       "     'family_publication_ts': '2020-12-01T00:00:00+00:00',\n",
       "     'family_category': 'Executive',\n",
       "     'family_geography': 'BIH',\n",
       "     'family_geographies': ['BIH', 'NOR'],\n",
       "     'family_source': 'CCLW',\n",
       "     'document_import_id': 'CCLW.document.i00000004.n0000',\n",
       "     'document_slug': 'climate-change-adaptation-and-low-emissions-growth-strategy-by-2035_6c4c',\n",
       "     'document_languages': ['English'],\n",
       "     'document_content_type': 'text/html',\n",
       "     'document_source_url': 'https://unfccc.int/sites/default/files/resource/ENG_CC%20adaptation%20and%20Low%20emission%20development%20Strategy%20BiH%202020-2030.pdf',\n",
       "     'corpus_type_name': 'UNFCCC Submissions',\n",
       "     'collection_title': 'collection one',\n",
       "     'metadata': [{'name': 'family.sector', 'value': 'Price'},\n",
       "      {'name': 'family.sector', 'value': 'Government'}],\n",
       "     'family_name_index': 'Nationally Determined Contribution: Climate Change Adaptation and Low Emissions Growth Strategy by 2035',\n",
       "     'family_description_index': '<p><span style=\"font-size: 10pt;font-family: Arial;\">This strategy upgrades the 2013 strategy on Climate Change Adaptation. It identifies six priority sectors for climate change adaptation action, namely agriculture, water management/water resources, forestry and forest resources, biodiversity and sensitive ecosystems, tourism, human health, and energy, and six priority sectors for low emissions growth, namely electricity generation, building and housing, transport, agriculture, forestry and waste. It summarises the key impacts of climate change in BiH, and outlines strategies for the transformation of BiH to a green economy, focusing on social inclusivity and gender equity.</span></p>'}}]}}"
      ]
     },
     "execution_count": 11,
     "metadata": {},
     "output_type": "execute_result"
    }
   ],
   "source": [
    "userinput_yql = f\"\"\"select * from sources family_document, document_passage where (userInput(@query_string)) \"\"\"\n",
    "\n",
    "search_adapter.client.query(\n",
    "    {\n",
    "        \"yql\": userinput_yql,\n",
    "        \"query_string\": \"ndc\",\n",
    "        \"rules.off\": False,\n",
    "        \"rules.rulebase\": \"synonyms_acronyms\",\n",
    "        \"trace.level\": \"3\",\n",
    "    }\n",
    ").json"
   ]
  },
  {
   "cell_type": "markdown",
   "metadata": {},
   "source": [
    "Note the `contains` logic doesn't seem to work here - it fails for 'ndc' but also 'climate' which is a word in family_name"
   ]
  },
  {
   "cell_type": "code",
   "execution_count": 10,
   "metadata": {},
   "outputs": [
    {
     "data": {
      "text/plain": [
       "{'trace': {'children': [{'message': \"Using query profile 'default'\"},\n",
       "   {'message': \"Invoking chain 'vespa' [com.yahoo.prelude.statistics.StatisticsSearcher@native -> com.yahoo.prelude.querytransform.PhrasingSearcher@vespa -> ... -> federation@native]\"},\n",
       "   {'children': [{'message': \"Field 'family_name' is an attribute, 'contains' will only match exactly (unless fuzzy is used)\"},\n",
       "     {'message': 'YQL query parsed: [select * from sources family_document, document_passage where family_name contains \"climate\" limit 5000 timeout 20000]'},\n",
       "     {'message': 'Federating to [family-document-passage]'},\n",
       "     {'children': [{'message': 'Stemming with language ENGLISH'},\n",
       "       {'message': 'Stemming: [select * from sources family_document, document_passage where family_name contains \"climate\" limit 5000 timeout 19981]'},\n",
       "       {'message': 'Lowercasing: [select * from sources family_document, document_passage where family_name contains ({normalizeCase: false}\"climate\") limit 5000 timeout 19981]'},\n",
       "       {'message': 'family-document-passage.num0 search to dispatch: query=[family_name:climate] timeout=19981ms offset=0 hits=5000 groupingSessionCache=true sessionId=48a07afa-b9ed-4ef4-a1f5-1b0d51cd9637.1736248987576.17.default rankproperties={\"vespa.softtimeout.enable\":[true],\"vespa.softtimeout.factor\":[0.7]} restrict=[family_document]'},\n",
       "       {'message': 'Current state of query tree: EXACTSTRING[fromSegmented=false index=\"family_name\" origin=null segmentIndex=0 stemmed=false uniqueID=1 words=true]{\\n  \"climate\"\\n}\\n'},\n",
       "       {'message': 'YQL+ representation: select * from sources family_document, document_passage where family_name contains ({normalizeCase: false, id: 1}\"climate\") limit 5000 timeout 19981'},\n",
       "       {'message': 'Dispatching to search node in cluster = dispatcher.family-document-passage key = 0 hostname = d4ad01aa9b9e path = 0 in group 0 statusIsKnown = true working = true activeDocs = 1969 targetActiveDocs = 1969'},\n",
       "       {'message': 'family-document-passage.num0 search to dispatch: query=[family_name:climate] timeout=19981ms offset=0 hits=5000 groupingSessionCache=true sessionId=48a07afa-b9ed-4ef4-a1f5-1b0d51cd9637.1736248987579.18.default rankproperties={\"vespa.softtimeout.enable\":[true],\"vespa.softtimeout.factor\":[0.7]} restrict=[document_passage]'},\n",
       "       {'message': 'Current state of query tree: EXACTSTRING[fromSegmented=false index=\"family_name\" origin=null segmentIndex=0 stemmed=false uniqueID=1 words=true]{\\n  \"climate\"\\n}\\n'},\n",
       "       {'message': 'YQL+ representation: select * from sources family_document, document_passage where family_name contains ({normalizeCase: false, id: 1}\"climate\") limit 5000 timeout 19981'},\n",
       "       {'message': 'Dispatching to search node in cluster = dispatcher.family-document-passage key = 0 hostname = d4ad01aa9b9e path = 0 in group 0 statusIsKnown = true working = true activeDocs = 1969 targetActiveDocs = 1969'},\n",
       "       {'message': [{'start_time': '2025-01-07 11:23:07.579 UTC',\n",
       "          'distribution-key': 0,\n",
       "          'document-type': 'family_document',\n",
       "          'duration_ms': 1.416958}]},\n",
       "       {'message': 'family-document-passage.num0 dispatch response: Result (0 of total 0 hits)'},\n",
       "       {'message': [{'start_time': '2025-01-07 11:23:07.585 UTC',\n",
       "          'distribution-key': 0,\n",
       "          'document-type': 'document_passage',\n",
       "          'duration_ms': 1.300292}]},\n",
       "       {'message': 'family-document-passage.num0 dispatch response: Result (0 of total 0 hits)'}]},\n",
       "     {'message': 'Ignoring fill(null): Hits are unfillable: result.hits().getFilled()=null'},\n",
       "     {'message': \"Query time query 'family_name:climate': 25 ms\"},\n",
       "     {'message': \"Summary fetch time query 'family_name:climate': 0 ms\"}]}]},\n",
       " 'root': {'id': 'toplevel',\n",
       "  'relevance': 1.0,\n",
       "  'fields': {'totalCount': 0},\n",
       "  'coverage': {'coverage': 100,\n",
       "   'documents': 1968,\n",
       "   'full': True,\n",
       "   'nodes': 2,\n",
       "   'results': 2,\n",
       "   'resultsFull': 2}}}"
      ]
     },
     "execution_count": 10,
     "metadata": {},
     "output_type": "execute_result"
    }
   ],
   "source": [
    "contains_yql = f\"\"\"select * from sources family_document, document_passage where family_name contains @query_string \"\"\"\n",
    "\n",
    "search_adapter.client.query(\n",
    "    {\n",
    "        \"yql\": contains_yql,\n",
    "        \"query_string\": \"climate\",\n",
    "        \"rules.off\": False,\n",
    "        \"rules.rulebase\": \"synonyms_acronyms\",\n",
    "        \"trace.level\": \"3\",\n",
    "    }\n",
    ").json"
   ]
  },
  {
   "cell_type": "code",
   "execution_count": null,
   "metadata": {},
   "outputs": [],
   "source": []
  }
 ],
 "metadata": {
  "kernelspec": {
   "display_name": "search-tests-6u7XOmKw-py3.10",
   "language": "python",
   "name": "python3"
  },
  "language_info": {
   "codemirror_mode": {
    "name": "ipython",
    "version": 3
   },
   "file_extension": ".py",
   "mimetype": "text/x-python",
   "name": "python",
   "nbconvert_exporter": "python",
   "pygments_lexer": "ipython3",
   "version": "3.10.13"
  }
 },
 "nbformat": 4,
 "nbformat_minor": 2
}
